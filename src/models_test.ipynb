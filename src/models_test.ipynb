{
 "cells": [
  {
   "cell_type": "code",
   "execution_count": 1,
   "metadata": {},
   "outputs": [],
   "source": [
    "import models\n",
    "import numpy as np\n",
    "\n",
    "## Paremeter \n",
    "luft_c = 344\n",
    "porous_dichte = 1100  # dichte von Poröser Schicht\n",
    "luft_dichte = 1.213  # dichte von Luft-Schicht\n",
    "\n",
    "# Parameters\n",
    "dichte = 1.213\n",
    "phi = 0.98\n",
    "alpha_unend = 1.01\n",
    "sigma = 20600\n",
    "gamma = 1.4\n",
    "P0 = 101325 # Pa\n",
    "viskosität_L = 85*10**(-6)\n",
    "thermisch_L = viskosität_L*2\n",
    "Pr = 0.71\n",
    "viskosität = 1.839*10**(-5)\n",
    "\n",
    "# Impedanz\n",
    "# Z0 = luft_dichte * luft_c\n",
    "Z2 = luft_dichte * luft_c  # Luft-Schicht\n",
    "\n",
    "# Frequenz Bereich\n",
    "L1 = 50 #float(input('poroese Schicht Dicke(mm):'))\n",
    "L1 = L1/1000\n",
    "L2 = 20 #float(input('Luft Schicht Dicke(mm):'))\n",
    "L2 = L2/1000\n",
    "frequenz_min = 20\n",
    "frequenz_max = 1000 #float(input('max. frequenz:'))\n",
    "frequenzbereich = np.arange(frequenz_min, frequenz_max)\n",
    "\n",
    "alphas = np.array([]) # Array speichert Absorptionsgrad"
   ]
  },
  {
   "cell_type": "code",
   "execution_count": 2,
   "metadata": {},
   "outputs": [],
   "source": [
    "por_abs = models.Porous_Absorber(frequenzbereich[0], dichte, phi, alpha_unend, sigma, \\\n",
    "                                  gamma, P0, viskosität_L, thermisch_L, Pr, viskosität)\n",
    "por_abs.set_f(frequenzbereich[1])\n",
    "test_k = por_abs.get_kp()\n",
    "test_z = por_abs.get_Zp()"
   ]
  }
 ],
 "metadata": {
  "kernelspec": {
   "display_name": "abscoeffcalc",
   "language": "python",
   "name": "python3"
  },
  "language_info": {
   "codemirror_mode": {
    "name": "ipython",
    "version": 3
   },
   "file_extension": ".py",
   "mimetype": "text/x-python",
   "name": "python",
   "nbconvert_exporter": "python",
   "pygments_lexer": "ipython3",
   "version": "3.11.3"
  },
  "orig_nbformat": 4
 },
 "nbformat": 4,
 "nbformat_minor": 2
}
