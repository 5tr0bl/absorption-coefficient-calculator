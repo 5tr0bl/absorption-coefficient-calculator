{
 "cells": [
  {
   "cell_type": "markdown",
   "id": "2ee8b82d",
   "metadata": {},
   "source": [
    "## Python classes\n",
    "\n",
    "Was sind eigentlich Klassen ?\n",
    "\n",
    "Was sind Objekte ?\n",
    "\n",
    "Was kann man damit anfangen ?  \n",
    "\n",
    "Siehe auch:\n",
    "https://docs.python.org/3/tutorial/classes.html"
   ]
  },
  {
   "cell_type": "code",
   "execution_count": 1,
   "id": "384b1067",
   "metadata": {},
   "outputs": [
    {
     "data": {
      "text/plain": [
       "(int, float, str, list)"
      ]
     },
     "execution_count": 1,
     "metadata": {},
     "output_type": "execute_result"
    }
   ],
   "source": [
    "# verschiedene \"eingebaute\" Datentypen\n",
    "a = 123\n",
    "b = 0.75\n",
    "c = \"hello there!\"\n",
    "d = [1,3,27]\n",
    "type(a),type(b),type(c),type(d)"
   ]
  },
  {
   "cell_type": "markdown",
   "id": "4e2561c3",
   "metadata": {},
   "source": [
    "Datentypen speichern Informationen (Daten) und \"wissen\", wie man damit umgeht (Funktionen und Operatoren)"
   ]
  },
  {
   "cell_type": "code",
   "execution_count": 2,
   "id": "7017ecb5",
   "metadata": {},
   "outputs": [
    {
     "data": {
      "text/plain": [
       "(246, 1.5, 'hello there!hello there!', [1, 3, 27, 1, 3, 27])"
      ]
     },
     "execution_count": 2,
     "metadata": {},
     "output_type": "execute_result"
    }
   ],
   "source": [
    "# Operatoren\n",
    "a+a, b+b, c+c, d+d"
   ]
  },
  {
   "cell_type": "code",
   "execution_count": 3,
   "id": "c02f18b4",
   "metadata": {},
   "outputs": [
    {
     "data": {
      "text/plain": [
       "[27, 3, 1]"
      ]
     },
     "execution_count": 3,
     "metadata": {},
     "output_type": "execute_result"
    }
   ],
   "source": [
    "# Funktionen\n",
    "d.reverse()\n",
    "d"
   ]
  },
  {
   "cell_type": "code",
   "execution_count": 4,
   "id": "ffb575f6",
   "metadata": {},
   "outputs": [
    {
     "data": {
      "text/plain": [
       "['hello', 'there!']"
      ]
     },
     "execution_count": 4,
     "metadata": {},
     "output_type": "execute_result"
    }
   ],
   "source": [
    "c.split()"
   ]
  },
  {
   "cell_type": "code",
   "execution_count": 5,
   "id": "f202af3e",
   "metadata": {},
   "outputs": [
    {
     "data": {
      "text/plain": [
       "(3, 4)"
      ]
     },
     "execution_count": 5,
     "metadata": {},
     "output_type": "execute_result"
    }
   ],
   "source": [
    "b.as_integer_ratio()"
   ]
  },
  {
   "cell_type": "code",
   "execution_count": 6,
   "id": "e3670c6d",
   "metadata": {},
   "outputs": [
    {
     "data": {
      "text/plain": [
       "7"
      ]
     },
     "execution_count": 6,
     "metadata": {},
     "output_type": "execute_result"
    }
   ],
   "source": [
    "a.bit_length()"
   ]
  },
  {
   "cell_type": "markdown",
   "id": "ea7aff83",
   "metadata": {},
   "source": [
    "__Klassen__ sind Datentypen !\n",
    "\n",
    "Es können neue Datentypen definiert werden."
   ]
  },
  {
   "cell_type": "code",
   "execution_count": 7,
   "id": "cd4d850a",
   "metadata": {},
   "outputs": [
    {
     "data": {
      "text/plain": [
       "type"
      ]
     },
     "execution_count": 7,
     "metadata": {},
     "output_type": "execute_result"
    }
   ],
   "source": [
    "# Syntax: ähnlich einer Funktionsdefinition, statt def wird class verwendet, Klammern *können* entfallen\n",
    "# Minimalbeispiel\n",
    "class Level:\n",
    "    \"Schalldruckpegel\"\n",
    "\n",
    "\n",
    "type(Level) # Lv"
   ]
  },
  {
   "cell_type": "code",
   "execution_count": 8,
   "id": "3e4c4ab7",
   "metadata": {},
   "outputs": [],
   "source": [
    "?Level"
   ]
  },
  {
   "cell_type": "code",
   "execution_count": 9,
   "id": "5453cb7b",
   "metadata": {},
   "outputs": [
    {
     "data": {
      "text/plain": [
       "__main__.Level"
      ]
     },
     "execution_count": 9,
     "metadata": {},
     "output_type": "execute_result"
    }
   ],
   "source": [
    "# eine Variable vom Typ 'Level' anlegen: eine 'Instanz' der Klasse erzeugen\n",
    "e = Level()\n",
    "type(e)"
   ]
  },
  {
   "cell_type": "code",
   "execution_count": 10,
   "id": "5f553d62",
   "metadata": {},
   "outputs": [
    {
     "data": {
      "text/plain": [
       "74.2"
      ]
     },
     "execution_count": 10,
     "metadata": {},
     "output_type": "execute_result"
    }
   ],
   "source": [
    "# jetzt noch Daten hinzufügen, dazu ein '(Daten)-Attribut' anlegen\n",
    "e.value = 74.2\n",
    "e.value"
   ]
  },
  {
   "cell_type": "code",
   "execution_count": 11,
   "id": "377dcd20",
   "metadata": {},
   "outputs": [
    {
     "ename": "AttributeError",
     "evalue": "'Level' object has no attribute 'value'",
     "output_type": "error",
     "traceback": [
      "\u001b[0;31m---------------------------------------------------------------------------\u001b[0m",
      "\u001b[0;31mAttributeError\u001b[0m                            Traceback (most recent call last)",
      "\u001b[0;32m/tmp/ipykernel_23762/129228037.py\u001b[0m in \u001b[0;36m<module>\u001b[0;34m\u001b[0m\n\u001b[1;32m      1\u001b[0m \u001b[0;31m# value gibt es jetzt nur bei der Instanz e, nicht bei anderen Instanzen !\u001b[0m\u001b[0;34m\u001b[0m\u001b[0;34m\u001b[0m\u001b[0;34m\u001b[0m\u001b[0m\n\u001b[1;32m      2\u001b[0m \u001b[0mf\u001b[0m \u001b[0;34m=\u001b[0m \u001b[0mLevel\u001b[0m\u001b[0;34m(\u001b[0m\u001b[0;34m)\u001b[0m\u001b[0;34m\u001b[0m\u001b[0;34m\u001b[0m\u001b[0m\n\u001b[0;32m----> 3\u001b[0;31m \u001b[0mf\u001b[0m\u001b[0;34m.\u001b[0m\u001b[0mvalue\u001b[0m\u001b[0;34m\u001b[0m\u001b[0;34m\u001b[0m\u001b[0m\n\u001b[0m",
      "\u001b[0;31mAttributeError\u001b[0m: 'Level' object has no attribute 'value'"
     ]
    }
   ],
   "source": [
    "# value gibt es jetzt nur bei der Instanz e, nicht bei anderen Instanzen !\n",
    "f = Level() \n",
    "f.value"
   ]
  },
  {
   "cell_type": "code",
   "execution_count": 12,
   "id": "a615bafe",
   "metadata": {},
   "outputs": [
    {
     "data": {
      "text/plain": [
       "(74.2, 72.3)"
      ]
     },
     "execution_count": 12,
     "metadata": {},
     "output_type": "execute_result"
    }
   ],
   "source": [
    "# etwas erweitertes Beispiel\n",
    "from math import *\n",
    "class Level:\n",
    "    \"Schalldruckpegel\"\n",
    "    \n",
    "    # Konstruktor, eine spezielle Methode, wird ausgeführt, wenn eine Instanz der Klasse erzeugt wird\n",
    "    # spezieller Funktionsname beginnt und endet mit __\n",
    "    def __init__(self, value):\n",
    "        # 'self' ist eine Referenz auf die Instanz und bei _allen_ zur Klasse gehörenden Funktionen\n",
    "        # das erste Argument\n",
    "        self.value = value\n",
    "    \n",
    "    # Beispiel 1 für eine Funktion: rms -> Level\n",
    "    def from_rms(self, rms):\n",
    "        self.value = 20*log10(rms/2e-5)\n",
    "\n",
    "    # Beispiel 2 für eine Funktion (spezielle Funktion mit __) -> stellt den '+' Operator zur Verfügung\n",
    "    def __add__(self, level2):\n",
    "        return Level(10*log10(10**(self.value/10.)+10**(level2.value/10.)))\n",
    "\n",
    "    \n",
    "l1 = Level(74.2)\n",
    "l2 = Level(72.3)\n",
    "l1.value, l2.value"
   ]
  },
  {
   "cell_type": "code",
   "execution_count": 13,
   "id": "43390a1b",
   "metadata": {},
   "outputs": [
    {
     "data": {
      "text/plain": [
       "70.88136088700551"
      ]
     },
     "execution_count": 13,
     "metadata": {},
     "output_type": "execute_result"
    }
   ],
   "source": [
    "l1.from_rms(0.07)\n",
    "l1.value"
   ]
  },
  {
   "cell_type": "code",
   "execution_count": 14,
   "id": "909dd6ef",
   "metadata": {},
   "outputs": [
    {
     "data": {
      "text/plain": [
       "74.65865015326507"
      ]
     },
     "execution_count": 14,
     "metadata": {},
     "output_type": "execute_result"
    }
   ],
   "source": [
    "l3 = l1 + l2\n",
    "l3.value"
   ]
  },
  {
   "cell_type": "markdown",
   "id": "61157ce0",
   "metadata": {},
   "source": [
    "Klassen können Daten und zugehörige Methoden 'einkapseln'\n",
    "\n",
    "Vorteil für Softwarekonzeption: Problem kann aus Sicht der Daten bzw. Objekte behandelt werden\n",
    "\n",
    "Illustration am Beispiel: \n",
    "* Ein 'Teil' hat eine 'Form' und besteht aus einem 'Material' - Wie schwer ist es? \n",
    "* Datentypen (Klassen): Part, Shape, Material\n",
    "* Jeder Datentyp hat Eigenschaften (Attribute)\n",
    "* Part: shape, material\n",
    "* Material: density\n",
    "* Shape: volume"
   ]
  },
  {
   "cell_type": "code",
   "execution_count": 15,
   "id": "b0afe574",
   "metadata": {},
   "outputs": [],
   "source": [
    "class Material:\n",
    "    \n",
    "    def __init__(self,dens):\n",
    "        self.dens = dens\n",
    "        \n",
    "    # das erscheint überflüssig, kann aber später von Nutzen sein\n",
    "    def density(self):\n",
    "        return self.dens\n",
    "\n",
    "class Shape:\n",
    "    \n",
    "    def __init__(self,vol):\n",
    "        self.vol = vol\n",
    "                 \n",
    "    def volume(self):\n",
    "        return self.vol\n",
    "    \n",
    "class Part:\n",
    "    \n",
    "    def __init__(self,shape,material):\n",
    "        self.shape = shape\n",
    "        self.material = material\n",
    "        \n",
    "    def mass(self):\n",
    "        return self.shape.volume()*self.material.density()"
   ]
  },
  {
   "cell_type": "code",
   "execution_count": 16,
   "id": "ca6a3c36",
   "metadata": {},
   "outputs": [
    {
     "data": {
      "text/plain": [
       "(<__main__.Material at 0x7fd49438b430>,\n",
       " <__main__.Shape at 0x7fd49438b7f0>,\n",
       " <__main__.Part at 0x7fd49438b850>)"
      ]
     },
     "execution_count": 16,
     "metadata": {},
     "output_type": "execute_result"
    }
   ],
   "source": [
    "steel = Material(7800)\n",
    "air = Material(1.2)\n",
    "shape1 = Shape(0.001) \n",
    "part1 = Part(shape1,steel)\n",
    "steel,shape1,part1"
   ]
  },
  {
   "cell_type": "code",
   "execution_count": 17,
   "id": "41458fd9",
   "metadata": {},
   "outputs": [
    {
     "data": {
      "text/plain": [
       "7.8"
      ]
     },
     "execution_count": 17,
     "metadata": {},
     "output_type": "execute_result"
    }
   ],
   "source": [
    "part1.mass()"
   ]
  },
  {
   "cell_type": "code",
   "execution_count": 18,
   "id": "2ab82ce7",
   "metadata": {},
   "outputs": [
    {
     "data": {
      "text/plain": [
       "0.0012"
      ]
     },
     "execution_count": 18,
     "metadata": {},
     "output_type": "execute_result"
    }
   ],
   "source": [
    "part1.material = air\n",
    "part1.mass()"
   ]
  },
  {
   "cell_type": "code",
   "execution_count": 19,
   "id": "d0ef6b39",
   "metadata": {},
   "outputs": [
    {
     "data": {
      "text/plain": [
       "0.084"
      ]
     },
     "execution_count": 19,
     "metadata": {},
     "output_type": "execute_result"
    }
   ],
   "source": [
    "shape1.vol = 0.07\n",
    "part1.mass()"
   ]
  },
  {
   "cell_type": "markdown",
   "id": "2ede8c55",
   "metadata": {},
   "source": [
    "Objekte 'verstecken' ihre Daten und die Algorithmen zu deren Verarbeitung und können ohne Rücksicht auf die Implementierung benutzt werden. Dieser Ansatz erlaubt auch eine Wiederverwendbarkeit von bereits erstelltem Code."
   ]
  },
  {
   "cell_type": "markdown",
   "id": "8511f61d",
   "metadata": {},
   "source": [
    "Aus bestehenden Klassen können neue Klassen abgeleitet werden: die Eigenschaften der Klasse werden dabei vererbt, ggf. verändert und es können jedoch neue hinzugefügt werden."
   ]
  },
  {
   "cell_type": "code",
   "execution_count": 20,
   "id": "afaac00f",
   "metadata": {},
   "outputs": [
    {
     "data": {
      "text/plain": [
       "0.0010000000000000002"
      ]
     },
     "execution_count": 20,
     "metadata": {},
     "output_type": "execute_result"
    }
   ],
   "source": [
    "class Cube(Shape): # Shape ist die Basisklasse (Baseclass)\n",
    "    \n",
    "    def __init__(self,a):\n",
    "        self.vol = a*a*a\n",
    "\n",
    "cu = Cube(0.1)       \n",
    "cu.volume() # "
   ]
  },
  {
   "cell_type": "code",
   "execution_count": 21,
   "id": "0137c07e",
   "metadata": {},
   "outputs": [
    {
     "data": {
      "text/plain": [
       "0.0062831853071795875"
      ]
     },
     "execution_count": 21,
     "metadata": {},
     "output_type": "execute_result"
    }
   ],
   "source": [
    "class Cylinder(Shape):\n",
    "    \n",
    "    def __init__(self,R,z):\n",
    "        self.vol = pi*R*R*z\n",
    "        \n",
    "cy = Cylinder(0.1,0.2)\n",
    "cy.volume()"
   ]
  },
  {
   "cell_type": "code",
   "execution_count": 23,
   "id": "ec08d139",
   "metadata": {},
   "outputs": [],
   "source": [
    "class JoinedShape(Shape):\n",
    "    \n",
    "    # shapes ist ein Tuple von Shapes\n",
    "    def __init__(self,shapes):\n",
    "        self.vol = 0.0\n",
    "        for shape in shapes:\n",
    "            self.vol += shape.volume()\n",
    "\n",
    "class MixedMaterial(Material):\n",
    "    \n",
    "    # mix ist ein Dictionary mit Einträgen der Form Material:fraction\n",
    "    def __init__(self,mix):\n",
    "        self.dens = 0\n",
    "        for mat, fraction in mix.items():\n",
    "            self.dens += mat.density()*fraction"
   ]
  },
  {
   "cell_type": "code",
   "execution_count": 24,
   "id": "cc592efd",
   "metadata": {},
   "outputs": [
    {
     "data": {
      "text/plain": [
       "11.368760937095049"
      ]
     },
     "execution_count": 24,
     "metadata": {},
     "output_type": "execute_result"
    }
   ],
   "source": [
    "sh2 = JoinedShape((cu,cy))\n",
    "ma2 = MixedMaterial({steel:0.2,air:0.8})# Metallschaum :-)\n",
    "part2 = Part(sh2,ma2)\n",
    "part2.mass()"
   ]
  },
  {
   "cell_type": "markdown",
   "id": "2f6f51cc",
   "metadata": {},
   "source": [
    "Noch ein paar weitere Gedanken:"
   ]
  },
  {
   "cell_type": "markdown",
   "id": "9dd02c18",
   "metadata": {},
   "source": [
    "Jedes Objekt kann auf seine Attribute untersucht werden."
   ]
  },
  {
   "cell_type": "code",
   "execution_count": 25,
   "id": "fae09c83",
   "metadata": {},
   "outputs": [
    {
     "data": {
      "text/plain": [
       "(['__class__',\n",
       "  '__delattr__',\n",
       "  '__dict__',\n",
       "  '__dir__',\n",
       "  '__doc__',\n",
       "  '__eq__',\n",
       "  '__format__',\n",
       "  '__ge__',\n",
       "  '__getattribute__',\n",
       "  '__gt__',\n",
       "  '__hash__',\n",
       "  '__init__',\n",
       "  '__init_subclass__',\n",
       "  '__le__',\n",
       "  '__lt__',\n",
       "  '__module__',\n",
       "  '__ne__',\n",
       "  '__new__',\n",
       "  '__reduce__',\n",
       "  '__reduce_ex__',\n",
       "  '__repr__',\n",
       "  '__setattr__',\n",
       "  '__sizeof__',\n",
       "  '__str__',\n",
       "  '__subclasshook__',\n",
       "  '__weakref__',\n",
       "  'mass',\n",
       "  'material',\n",
       "  'shape'],\n",
       " ['__class__',\n",
       "  '__delattr__',\n",
       "  '__dict__',\n",
       "  '__dir__',\n",
       "  '__doc__',\n",
       "  '__eq__',\n",
       "  '__format__',\n",
       "  '__ge__',\n",
       "  '__getattribute__',\n",
       "  '__gt__',\n",
       "  '__hash__',\n",
       "  '__init__',\n",
       "  '__init_subclass__',\n",
       "  '__le__',\n",
       "  '__lt__',\n",
       "  '__module__',\n",
       "  '__ne__',\n",
       "  '__new__',\n",
       "  '__reduce__',\n",
       "  '__reduce_ex__',\n",
       "  '__repr__',\n",
       "  '__setattr__',\n",
       "  '__sizeof__',\n",
       "  '__str__',\n",
       "  '__subclasshook__',\n",
       "  '__weakref__',\n",
       "  'vol',\n",
       "  'volume'])"
      ]
     },
     "execution_count": 25,
     "metadata": {},
     "output_type": "execute_result"
    }
   ],
   "source": [
    "dir(part2), dir(part2.shape)"
   ]
  },
  {
   "cell_type": "code",
   "execution_count": 49,
   "id": "3b025d85",
   "metadata": {},
   "outputs": [
    {
     "data": {
      "text/plain": [
       "__main__.Part"
      ]
     },
     "execution_count": 49,
     "metadata": {},
     "output_type": "execute_result"
    }
   ],
   "source": [
    "part2.__class__"
   ]
  },
  {
   "cell_type": "markdown",
   "id": "bbad1719",
   "metadata": {},
   "source": [
    "__Jede__ Variable in Python ist ein Objekt, auch jede Funktion!"
   ]
  },
  {
   "cell_type": "code",
   "execution_count": 31,
   "id": "a8246852",
   "metadata": {},
   "outputs": [
    {
     "data": {
      "text/plain": [
       "function"
      ]
     },
     "execution_count": 31,
     "metadata": {},
     "output_type": "execute_result"
    }
   ],
   "source": [
    "def testfunktion():\n",
    "    pass\n",
    "\n",
    "type(testfunktion)"
   ]
  },
  {
   "cell_type": "code",
   "execution_count": 32,
   "id": "1b46171f",
   "metadata": {},
   "outputs": [
    {
     "data": {
      "text/plain": [
       "['__class__',\n",
       " '__delattr__',\n",
       " '__dict__',\n",
       " '__dir__',\n",
       " '__doc__',\n",
       " '__eq__',\n",
       " '__format__',\n",
       " '__ge__',\n",
       " '__getattribute__',\n",
       " '__gt__',\n",
       " '__hash__',\n",
       " '__init__',\n",
       " '__init_subclass__',\n",
       " '__le__',\n",
       " '__lt__',\n",
       " '__module__',\n",
       " '__ne__',\n",
       " '__new__',\n",
       " '__reduce__',\n",
       " '__reduce_ex__',\n",
       " '__repr__',\n",
       " '__setattr__',\n",
       " '__sizeof__',\n",
       " '__str__',\n",
       " '__subclasshook__',\n",
       " '__weakref__',\n",
       " 'vol',\n",
       " 'volume']"
      ]
     },
     "execution_count": 32,
     "metadata": {},
     "output_type": "execute_result"
    }
   ],
   "source": [
    "dir(sh2)"
   ]
  },
  {
   "cell_type": "markdown",
   "id": "9a09480d",
   "metadata": {},
   "source": [
    "__VORSICHT__ mit Klassenattributen:"
   ]
  },
  {
   "cell_type": "code",
   "execution_count": 33,
   "id": "abcead70",
   "metadata": {},
   "outputs": [
    {
     "data": {
      "text/plain": [
       "(27, 27)"
      ]
     },
     "execution_count": 33,
     "metadata": {},
     "output_type": "execute_result"
    }
   ],
   "source": [
    "class test:   \n",
    "    number = 27\n",
    "    \n",
    "t1 = test()    \n",
    "t2 = test()\n",
    "t1.number, t2.number"
   ]
  },
  {
   "cell_type": "code",
   "execution_count": 34,
   "id": "39bd9ec1",
   "metadata": {},
   "outputs": [
    {
     "data": {
      "text/plain": [
       "(5, 5)"
      ]
     },
     "execution_count": 34,
     "metadata": {},
     "output_type": "execute_result"
    }
   ],
   "source": [
    "test.number = 5\n",
    "t1.number, t2.number"
   ]
  },
  {
   "cell_type": "code",
   "execution_count": 35,
   "id": "c091f532",
   "metadata": {},
   "outputs": [
    {
     "data": {
      "text/plain": [
       "(3, 5)"
      ]
     },
     "execution_count": 35,
     "metadata": {},
     "output_type": "execute_result"
    }
   ],
   "source": [
    "t1.number = 3 # Das ist ein NEUES Attribut, das jetzt zum Objekt t1 und nicht zur Klasse gehört\n",
    "t1.number, t2.number"
   ]
  },
  {
   "cell_type": "code",
   "execution_count": 36,
   "id": "4e99a860",
   "metadata": {},
   "outputs": [
    {
     "data": {
      "text/plain": [
       "(3, 7)"
      ]
     },
     "execution_count": 36,
     "metadata": {},
     "output_type": "execute_result"
    }
   ],
   "source": [
    "test.number = 7\n",
    "t1.number, t2.number"
   ]
  },
  {
   "cell_type": "markdown",
   "id": "97be563d",
   "metadata": {},
   "source": [
    "Es gibt noch sehr viel mehr zu Thema Klassen und objektorientierte Programmierung! Bitte unbedingt selber ausprobieren!\n",
    "\n",
    "Wie kann man ein gegebenes Problem in einer Struktur aus Klassen bzw. Objekten abbilden?"
   ]
  },
  {
   "cell_type": "code",
   "execution_count": null,
   "id": "46043bfd",
   "metadata": {},
   "outputs": [],
   "source": []
  }
 ],
 "metadata": {
  "kernelspec": {
   "display_name": "Python 3 (ipykernel)",
   "language": "python",
   "name": "python3"
  },
  "language_info": {
   "codemirror_mode": {
    "name": "ipython",
    "version": 3
   },
   "file_extension": ".py",
   "mimetype": "text/x-python",
   "name": "python",
   "nbconvert_exporter": "python",
   "pygments_lexer": "ipython3",
   "version": "3.8.15"
  }
 },
 "nbformat": 4,
 "nbformat_minor": 5
}
