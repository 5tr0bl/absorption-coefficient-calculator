{
 "cells": [
  {
   "cell_type": "code",
   "execution_count": 1,
   "id": "546a0a82",
   "metadata": {},
   "outputs": [],
   "source": [
    "# poröse layer und air-layer\n",
    "import matplotlib.pyplot as plt\n",
    "from mpl_toolkits.mplot3d import Axes3D\n",
    "\n",
    "import csv\n",
    "import numpy as np\n",
    "from numpy import cos, sin, pi, sqrt\n",
    "\n",
    "path = 'data/data.csv'\n",
    "\n",
    "# neue dict date zu speichern\n",
    "my_dict = {}\n",
    "with open(path, newline='', encoding='utf-8') as csvfile:\n",
    "    reader = csv.reader(csvfile, delimiter=';')\n",
    "    i = 0\n",
    "    for row in reader:\n",
    "        my_dict[row[0]] = [row[1],row[3]]\n",
    "d = my_dict['Aluminium'][0]\n"
   ]
  },
  {
   "cell_type": "code",
   "execution_count": 2,
   "id": "015e6076",
   "metadata": {},
   "outputs": [],
   "source": [
    "# JAC-Modell\n",
    "# Porosität des porösen Materials (Φ)\n",
    "# Dichte der Flüssigkeit (normalerweise Luft) (ρ)\n",
    "# Viskosität des Fluids (η)\n",
    "# Strömungswiderstand des porösen Materials (σ)\n",
    "# Frequenz der Schallwelle (f)\n",
    "# Thermische Parameter eines porösen Materials (Pr, Le)\n",
    "# Wärmekapazität des porösen Materials (Cp)\n",
    "# Porengröße des porösen Materials (d)\n",
    "\n",
    "\n",
    "def JAC(f, dichte, phi, alpha_unend, sigma, gamma, P0, viskosität_L, thermisch_L, Pr, viskosität):\n",
    "\n",
    "    K0 = gamma * P0\n",
    "    omega = 2*pi*f\n",
    "    G1 = sigma * phi / (alpha_unend * dichte * omega)\n",
    "    \n",
    "    G2 = 4*((alpha_unend)**2) * dichte * viskosität * omega / ((sigma*phi*viskosität_L)**2)\n",
    "    \n",
    "    G1_dot = 8*viskosität / (dichte * Pr * ((thermisch_L)**2) * omega)\n",
    "    \n",
    "    G2_dot = dichte * Pr * ((thermisch_L)**2) * omega / (16*viskosität)\n",
    "    \n",
    "    dichte_p = dichte * alpha_unend * (1- 1j*G1*sqrt(1+1j*G2)) / phi\n",
    "    \n",
    "    K_p = K0*phi**(-1) / (gamma - (gamma-1)*((1- 1j*G1_dot*sqrt(1+ 1j*G2_dot))**-1))\n",
    "    \n",
    "    kp = omega * sqrt(dichte_p/K_p)\n",
    "    Zp = sqrt(dichte_p*K_p)\n",
    "\n",
    "    return Zp, kp"
   ]
  },
  {
   "cell_type": "code",
   "execution_count": 3,
   "id": "e02a0307",
   "metadata": {},
   "outputs": [
    {
     "data": {
      "text/plain": [
       "2.0"
      ]
     },
     "execution_count": 3,
     "metadata": {},
     "output_type": "execute_result"
    }
   ],
   "source": [
    "float(input('poroese Schicht Dicke(mm):'))"
   ]
  },
  {
   "cell_type": "code",
   "execution_count": 4,
   "id": "35d32573",
   "metadata": {},
   "outputs": [
    {
     "ename": "NameError",
     "evalue": "name 'Z0' is not defined",
     "output_type": "error",
     "traceback": [
      "\u001b[0;31m---------------------------------------------------------------------------\u001b[0m",
      "\u001b[0;31mNameError\u001b[0m                                 Traceback (most recent call last)",
      "Cell \u001b[0;32mIn[4], line 52\u001b[0m\n\u001b[1;32m     49\u001b[0m T_total \u001b[39m=\u001b[39m np\u001b[39m.\u001b[39mdot(T1, T2)\n\u001b[1;32m     51\u001b[0m \u001b[39m# Absorptionsgrad berechnen\u001b[39;00m\n\u001b[0;32m---> 52\u001b[0m R \u001b[39m=\u001b[39m (T_total[\u001b[39m0\u001b[39m, \u001b[39m0\u001b[39m] \u001b[39m-\u001b[39m T_total[\u001b[39m1\u001b[39m, \u001b[39m0\u001b[39m]\u001b[39m*\u001b[39mZ0) \u001b[39m/\u001b[39m (T_total[\u001b[39m0\u001b[39m, \u001b[39m0\u001b[39m] \u001b[39m+\u001b[39m T_total[\u001b[39m1\u001b[39m, \u001b[39m0\u001b[39m]\u001b[39m*\u001b[39mZ0) \u001b[39m# Reflexionskoeffizient\u001b[39;00m\n\u001b[1;32m     53\u001b[0m alpha \u001b[39m=\u001b[39m \u001b[39m1\u001b[39m \u001b[39m-\u001b[39m np\u001b[39m.\u001b[39mabs(R) \u001b[39m*\u001b[39m\u001b[39m*\u001b[39m \u001b[39m2\u001b[39m\n\u001b[1;32m     54\u001b[0m alphas \u001b[39m=\u001b[39m np\u001b[39m.\u001b[39mappend(alphas, alpha)\n",
      "\u001b[0;31mNameError\u001b[0m: name 'Z0' is not defined"
     ]
    }
   ],
   "source": [
    "## Paremeter \n",
    "luft_c = 344\n",
    "porous_dichte = 1100  # dichte von Poröser Schicht\n",
    "luft_dichte = 1.213  # dichte von Luft-Schicht\n",
    "\n",
    "# Parameters\n",
    "dichte = 1.213\n",
    "phi = 0.98\n",
    "alpha_unend = 1.01\n",
    "sigma = 20600\n",
    "gamma = 1.4\n",
    "P0 = 101325 # Pa\n",
    "viskosität_L = 85*10**(-6)\n",
    "thermisch_L = viskosität_L*2\n",
    "Pr = 0.71\n",
    "viskosität = 1.839*10**(-5)\n",
    "\n",
    "# Impedanz\n",
    "# Z0 = luft_dichte * luft_c\n",
    "Z2 = luft_dichte * luft_c  # Luft-Schicht\n",
    "\n",
    "# Frequenz Bereich\n",
    "L1 = float(input('poroese Schicht Dicke(mm):'))\n",
    "L1 = L1/1000\n",
    "L2 = float(input('Luft Schicht Dicke(mm):'))\n",
    "L2 = L2/1000\n",
    "frequenz_min = 1\n",
    "frequenz_max = float(input('max. frequenz:'))\n",
    "frequenzbereich = np.arange(frequenz_min, frequenz_max)\n",
    "\n",
    "alphas = np.array([]) # Array speichert Absorptionsgrad\n",
    "\n",
    "for f in frequenzbereich:\n",
    "    Z1, k1= JAC(f, dichte, phi, alpha_unend, sigma, gamma, P0, viskosität_L, thermisch_L, Pr, viskosität)\n",
    "    k2 = 2 * np.pi * f / luft_c\n",
    "\n",
    "    # T1, T2, T3 definieren\n",
    "    T1 = np.array([[cos(k1*L1), 1j*Z1*sin(k1*L1)],\n",
    "                   [(1j/Z1)*sin(k1*L1), cos(k1*L1)]])\n",
    "\n",
    "    T2 = np.array([[np.cos(k2*L2), 1j*Z2*np.sin(k2*L2)],\n",
    "                   [(1j/Z2)*np.sin(k2*L2), np.cos(k2*L2)]])\n",
    "\n",
    "    # Rigid Backed\n",
    "    T3 = np.array([[1, 0],  \n",
    "                   [0, 1]])\n",
    "\n",
    "    # T_total berechnen\n",
    "    T_total = np.dot(T1, T2)\n",
    "\n",
    "    # Absorptionsgrad berechnen\n",
    "    R = (T_total[0, 0] - T_total[1, 0]*Z0) / (T_total[0, 0] + T_total[1, 0]*Z0) # Reflexionskoeffizient\n",
    "    alpha = 1 - np.abs(R) ** 2\n",
    "    alphas = np.append(alphas, alpha)\n",
    "\n",
    "# Ersetzen der Werte durch 0\n",
    "alphas[(alphas > -0.000001) & (alphas < 0)] = 0\n",
    "alphas[(alphas < 0.000001) & (alphas > 0)] = 0\n",
    "\n",
    "# Diagramm, Grad über Frequenz\n",
    "plt.plot(frequenzbereich,alphas)\n",
    "plt.xlabel('Frequencz (Hz)')\n",
    "plt.ylabel('Absorptionsgrad')\n",
    "plt.title('Absorptionsgrad über Frequenz')\n",
    "plt.show()"
   ]
  },
  {
   "cell_type": "code",
   "execution_count": 45,
   "id": "d7e47d54",
   "metadata": {},
   "outputs": [
    {
     "name": "stdout",
     "output_type": "stream",
     "text": [
      "poroese Schicht Dicke(mm):30\n",
      "Luft Schicht Dicke(mm):30\n",
      "Einfallswinkel(Grad):80\n",
      "max. frequenz:5000\n"
     ]
    },
    {
     "name": "stderr",
     "output_type": "stream",
     "text": [
      "C:\\Users\\lenovo\\AppData\\Local\\Temp\\ipykernel_2136\\2134157158.py:42: RuntimeWarning: invalid value encountered in sqrt\n",
      "  k_2z = sqrt(k2**2 - k2*sin(theta)**2)\n",
      "C:\\Users\\lenovo\\AppData\\Local\\Temp\\ipykernel_2136\\2134157158.py:60: RuntimeWarning: invalid value encountered in cdouble_scalars\n",
      "  R = (T_total[0, 0]*cos(theta) - T_total[1, 0]*Z0) / (T_total[0, 0]*cos(theta) + T_total[1, 0]*Z0) # Reflexionskoeffizient\n"
     ]
    },
    {
     "data": {
      "image/png": "[encoded data removed]",
      "text/plain": [
       "<Figure size 640x480 with 1 Axes>"
      ]
     },
     "metadata": {},
     "output_type": "display_data"
    }
   ],
   "source": [
    "## Schräge Inzidenz (Oblique Incidence)\n",
    "## Paremeter \n",
    "luft_c = 344\n",
    "porous_dichte = 1100  # dichte von Poröser Schicht\n",
    "luft_dichte = 1.213  # dichte von Luft-Schicht\n",
    "\n",
    "# Parameters\n",
    "dichte = 1.213\n",
    "phi = 0.98\n",
    "alpha_unend = 1.01\n",
    "sigma = 20600\n",
    "gamma = 1.4\n",
    "P0 = 101325 # Pa\n",
    "viskosität_L = 85*10**(-6)\n",
    "thermisch_L = viskosität_L*2\n",
    "Pr = 0.71\n",
    "viskosität = 1.839*10**(-5)\n",
    "\n",
    "# Impedanz\n",
    "# Z0 = luft_dichte * luft_c\n",
    "Z2 = luft_dichte * luft_c  # Luft-Schicht\n",
    "\n",
    "# Frequenz Bereich\n",
    "L1 = float(input('poroese Schicht Dicke(mm):'))\n",
    "L1 = L1/1000\n",
    "L2 = float(input('Luft Schicht Dicke(mm):'))\n",
    "L2 = L2/1000\n",
    "theta = float(input('Einfallswinkel(Grad):'))\n",
    "frequenz_min = 1\n",
    "frequenz_max = float(input('max. frequenz:'))\n",
    "frequenzbereich = np.arange(frequenz_min, frequenz_max)\n",
    "\n",
    "alphas = np.array([]) # Array speichert Absorptionsgrad\n",
    "\n",
    "\n",
    "for f in frequenzbereich:\n",
    "    Z1, k1= JAC(f, dichte, phi, alpha_unend, sigma, gamma, P0, viskosität_L, thermisch_L, Pr, viskosität)\n",
    "    k2 = 2 * np.pi * f / luft_c\n",
    "\n",
    "    ## neue k_pz bei Eingallswinkel theta\n",
    "    k_1z = sqrt(k1**2 - k1*sin(theta)**2)\n",
    "    k_2z = sqrt(k2**2 - k2*sin(theta)**2)\n",
    "    \n",
    "    \n",
    "    # T1, T2, T3 definieren\n",
    "    T1 = np.array([[cos(k_1z*L1), 1j*Z1*k1*sin(k_1z*L1)/k_1z],\n",
    "                   [(1j/Z1)*k_1z*sin(k_1z*L1)/k1, cos(k_1z*L1)]])\n",
    "\n",
    "    T2 = np.array([[cos(k_2z*L2), 1j*Z2*k2*sin(k_2z*L2)/k_2z],\n",
    "                   [(1j/Z2)*k_2z*sin(k_2z*L2)/k2, cos(k_2z*L2)]])\n",
    "\n",
    "    # Rigid Backed\n",
    "    T3 = np.array([[1, 0],  \n",
    "                   [0, 1]])\n",
    "\n",
    "    # T_total berechnen\n",
    "    T_total = np.dot(T1, T2)\n",
    "\n",
    "    # Absorptionsgrad berechnen\n",
    "    R = (T_total[0, 0]*cos(theta) - T_total[1, 0]*Z0) / (T_total[0, 0]*cos(theta) + T_total[1, 0]*Z0) # Reflexionskoeffizient\n",
    "    alpha = 1 - np.abs(R) ** 2\n",
    "    alphas = np.append(alphas, alpha)\n",
    "\n",
    "# Ersetzen der Werte durch 0\n",
    "alphas[(alphas > -0.000001) & (alphas < 0)] = 0\n",
    "alphas[(alphas < 0.000001) & (alphas > 0)] = 0\n",
    "\n",
    "# Diagramm, Grad über Frequenz\n",
    "plt.plot(frequenzbereich,alphas)\n",
    "plt.xlabel('Frequencz (Hz)')\n",
    "plt.ylabel('Absorptionsgrad')\n",
    "plt.title('Absorptionsgrad über Frequenz')\n",
    "plt.show()"
   ]
  },
  {
   "cell_type": "code",
   "execution_count": null,
   "id": "713210b0",
   "metadata": {},
   "outputs": [],
   "source": []
  }
 ],
 "metadata": {
  "kernelspec": {
   "display_name": "Python 3 (ipykernel)",
   "language": "python",
   "name": "python3"
  },
  "language_info": {
   "codemirror_mode": {
    "name": "ipython",
    "version": 3
   },
   "file_extension": ".py",
   "mimetype": "text/x-python",
   "name": "python",
   "nbconvert_exporter": "python",
   "pygments_lexer": "ipython3",
   "version": "3.10.4"
  }
 },
 "nbformat": 4,
 "nbformat_minor": 5
}
