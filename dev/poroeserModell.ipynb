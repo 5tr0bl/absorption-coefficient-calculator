{
 "cells": [
  {
   "cell_type": "code",
   "execution_count": 1,
   "metadata": {
    "ExecuteTime": {
     "end_time": "2023-06-30T15:42:25.949796Z",
     "start_time": "2023-06-30T15:42:25.522311Z"
    }
   },
   "outputs": [],
   "source": [
    "# poröse layer und air-layer\n",
    "import matplotlib.pyplot as plt\n",
    "from mpl_toolkits.mplot3d import Axes3D\n",
    "\n",
    "import csv\n",
    "import numpy as np\n",
    "from numpy import cos, sin, pi, sqrt, abs, dot\n"
   ]
  },
  {
   "cell_type": "code",
   "execution_count": 2,
   "metadata": {
    "ExecuteTime": {
     "end_time": "2023-06-30T15:43:07.704485Z",
     "start_time": "2023-06-30T15:43:07.700262Z"
    }
   },
   "outputs": [],
   "source": [
    "# JAC-Modell\n",
    "# Porosität des porösen Materials (Φ)\n",
    "# Dichte der Flüssigkeit (normalerweise Luft) (ρ)\n",
    "# Viskosität des Fluids (η)\n",
    "# Strömungswiderstand des porösen Materials (σ)\n",
    "# Frequenz der Schallwelle (f)\n",
    "# Thermische Parameter eines porösen Materials (Pr, Le)\n",
    "# Wärmekapazität des porösen Materials (Cp)\n",
    "# Porengröße des porösen Materials (d)\n",
    "\n",
    "\n",
    "def JAC(f, dichte, phi, alpha_unend, sigma, gamma, P0, viskosität_L, thermisch_L, Pr, viskosität):\n",
    "\n",
    "    K0 = gamma * P0\n",
    "    omega = 2*pi*f\n",
    "    try:\n",
    "        G1 = sigma * phi / (alpha_unend * dichte * omega)\n",
    "    except ZeroDivisionError:\n",
    "        G1_dot = float('inf')  # other number\n",
    "        print('biite richtig Zahl eingeben')\n",
    "    \n",
    "    try:\n",
    "        G2 = 4*((alpha_unend)**2) * dichte * viskosität * omega / ((sigma*phi*viskosität_L)**2)\n",
    "    except ZeroDivisionError:\n",
    "        G2 = float('inf')\n",
    "        print('biite richtig Zahl eingeben')\n",
    "\n",
    "    try:\n",
    "        G1_dot = 8*viskosität / (dichte * Pr * ((thermisch_L)**2) * omega)\n",
    "    except ZeroDivisionError:\n",
    "        G1_dot = float('inf')\n",
    "        print('biite richtig Zahl eingeben')\n",
    "        \n",
    "    try:\n",
    "        G2_dot = dichte * Pr * ((thermisch_L)**2) * omega / (16*viskosität)\n",
    "    except ZeroDivisionError:\n",
    "        G2_dot = float('inf')\n",
    "        print('biite richtig Zahl eingeben')\n",
    "\n",
    "    try:\n",
    "        dichte_p = dichte * alpha_unend * (1- 1j*G1*sqrt(1+1j*G2)) / phi\n",
    "    except (ZeroDivisionError, ValueError):\n",
    "        dichte_p = float('inf')\n",
    "        print('biite richtig Zahl eingeben')\n",
    "\n",
    "    K_p = K0*phi**(-1) / (gamma - (gamma-1)*((1- 1j*G1_dot*sqrt(1+ 1j*G2_dot))**-1))\n",
    "    \n",
    "    try:\n",
    "        kp = omega * sqrt(dichte_p/K_p)\n",
    "    except ZeroDivisionError:\n",
    "        kp = float('inf')\n",
    "        print('biite richtig Zahl eingeben')\n",
    "    Zp = sqrt(dichte_p*K_p)\n",
    "\n",
    "    return Zp, kp"
   ]
  },
  {
   "cell_type": "code",
   "execution_count": 3,
   "metadata": {
    "ExecuteTime": {
     "end_time": "2023-06-30T15:43:11.749340Z",
     "start_time": "2023-06-30T15:43:11.744365Z"
    }
   },
   "outputs": [],
   "source": [
    "def tmm(\n",
    "        theta: float,\n",
    "        k0: float,\n",
    "        k1: float,\n",
    "        L1: float,\n",
    "        Z1: float,\n",
    "        k2: float,\n",
    "        L2: float,\n",
    "        Z2: float\n",
    "    ) -> None:\n",
    "    \n",
    "    ##  k_x, k_z bei Eingallswinkel theta\n",
    "    k_0x = k0*sin(theta)\n",
    "    k_1x = k_0x\n",
    "    k_2x = k2*sin(theta)\n",
    "\n",
    "    k_1z = sqrt(k1**2 - k_1x**2)\n",
    "    k_2z = sqrt(k2**2 - k_2x**2)\n",
    "\n",
    "    # T1, T2, T3 definieren\n",
    "\n",
    "    T1 = np.array([[cos(k_1z*L1), 1j*Z1*(k1/k_1z)*sin(k_1z*L1)],\n",
    "                   [(1j/Z1)*(k_1z/k1)*sin(k_1z*L1), cos(k_1z*L1)]])\n",
    "\n",
    "    T2 = np.array([[cos(k_2z*L2), 1j*Z2*(k2/k_2z)*sin(k_2z*L2)],\n",
    "                   [(1j/Z2)*(k_2z/k2)*sin(k_2z*L2), cos(k_2z*L2)]])\n",
    "\n",
    "    # Rigid Backed\n",
    "    T3 = np.array([[1, 0],  \n",
    "                   [0, 1]])\n",
    "\n",
    "    # T_total berechnen\n",
    "    T_total = dot(T1, T2)\n",
    "\n",
    "    return T_total"
   ]
  },
  {
   "cell_type": "code",
   "execution_count": 4,
   "metadata": {
    "ExecuteTime": {
     "end_time": "2023-06-30T15:43:25.719073Z",
     "start_time": "2023-06-30T15:43:15.670530Z"
    }
   },
   "outputs": [
    {
     "data": {
      "text/plain": "<Figure size 640x480 with 1 Axes>",
      "image/png": "[encoded data removed]"
     },
     "metadata": {},
     "output_type": "display_data"
    }
   ],
   "source": [
    "## Schräge Inzidenz (Oblique Incidence)\n",
    "## Paremeter \n",
    "luft_c = 344\n",
    "luft_dichte = 1.213  # dichte von Luft-Schicht\n",
    "\n",
    "# Parameters\n",
    "dichte = 1.213\n",
    "phi = 0.98\n",
    "alpha_unend = 1.01\n",
    "sigma = 20600\n",
    "gamma = 1.4\n",
    "P0 = 101325 # Pa\n",
    "viskosität_L = 85*10**(-6)\n",
    "thermisch_L = viskosität_L*2\n",
    "Pr = 0.71\n",
    "viskosität = 1.839*10**(-5)\n",
    "\n",
    "# Frequenz Bereich\n",
    "L1 = float(input('poroese Schicht Dicke(mm):'))\n",
    "L1 = L1/1000\n",
    "L2 = float(input('Luft Schicht Dicke(mm):'))\n",
    "L2 = L2/1000\n",
    "winkel = float(input('Einfallswinkel(Grad):'))\n",
    "theta = pi*winkel/180 # theta nur rad sein können\n",
    "frequenz_min = 10\n",
    "frequenz_max = float(input('max. frequenz:'))\n",
    "frequenzbereich = np.arange(frequenz_min, frequenz_max)\n",
    "\n",
    "alphas = np.array([]) # Array speichert Absorptionsgrad\n",
    "\n",
    "# Impedanz\n",
    "Z0 = luft_dichte * luft_c\n",
    "#Z2 = luft_dichte * luft_c  # Luft-Schicht\n",
    "\n",
    "for f in frequenzbereich:\n",
    "    Z1, k1 = JAC(f, dichte, phi, alpha_unend, sigma, gamma, P0, viskosität_L, thermisch_L, Pr, viskosität)\n",
    "    Z2 = luft_dichte * luft_c\n",
    "\n",
    "    k0 = 2*pi*f / (luft_c)\n",
    "    k2 = k0\n",
    "\n",
    "    T_total = tmm(theta,k0,k1,L1,Z1,k2,L2,Z2)\n",
    "    \n",
    "    # Absorptionsgrad berechnen\n",
    "    R = (T_total[0, 0]*cos(theta) - Z0*T_total[1, 0]) / (T_total[0, 0]*cos(theta) + Z0*T_total[1, 0]) # Reflexionskoeffizient\n",
    "    alpha = 1 - (abs(R)**2)\n",
    "    alphas = np.append(alphas, alpha)\n",
    "\n",
    "# Ersetzen der Werte durch 0\n",
    "alphas[(alphas < 0.000001) & (alphas > 0)] = 0\n",
    "\n",
    "# Diagramm, Grad über Frequenz\n",
    "plt.plot(frequenzbereich,alphas)\n",
    "plt.xlabel('Frequencz (Hz)')\n",
    "plt.ylabel('Absorptionsgrad')\n",
    "plt.title('Absorptionsgrad über Frequenz')\n",
    "plt.show()"
   ]
  },
  {
   "cell_type": "code",
   "execution_count": null,
   "metadata": {},
   "outputs": [],
   "source": []
  }
 ],
 "metadata": {
  "kernelspec": {
   "display_name": "base",
   "language": "python",
   "name": "python3"
  },
  "language_info": {
   "codemirror_mode": {
    "name": "ipython",
    "version": 3
   },
   "file_extension": ".py",
   "mimetype": "text/x-python",
   "name": "python",
   "nbconvert_exporter": "python",
   "pygments_lexer": "ipython3",
   "version": "3.9.13"
  },
  "orig_nbformat": 4
 },
 "nbformat": 4,
 "nbformat_minor": 2
}
